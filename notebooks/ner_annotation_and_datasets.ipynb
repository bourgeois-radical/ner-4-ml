{
 "cells": [
  {
   "cell_type": "code",
   "execution_count": 7,
   "id": "8ecb192e-0548-4332-bad3-6a8dd356727d",
   "metadata": {},
   "outputs": [
    {
     "name": "stdout",
     "output_type": "stream",
     "text": [
      "The autoreload extension is already loaded. To reload it, use:\n",
      "  %reload_ext autoreload\n"
     ]
    }
   ],
   "source": [
    "# no cache; always uploading from modules\n",
    "%load_ext autoreload\n",
    "%autoreload 2"
   ]
  },
  {
   "cell_type": "code",
   "execution_count": 8,
   "id": "79570a8b-f95e-4907-b51f-a175793103a3",
   "metadata": {},
   "outputs": [],
   "source": [
    "# built-in\n",
    "import sys\n",
    "import pickle\n",
    "\n",
    "from pandas import DataFrame, concat\n",
    "from pathlib import Path\n",
    "from datasets import Dataset, DatasetDict"
   ]
  },
  {
   "cell_type": "code",
   "execution_count": 9,
   "id": "ec422a02-b59f-4266-b64e-f1cae1b38411",
   "metadata": {},
   "outputs": [],
   "source": [
    "sys.path.append('../')"
   ]
  },
  {
   "cell_type": "code",
   "execution_count": 10,
   "id": "229cc860-ebc1-46e1-88cd-298852cbba16",
   "metadata": {},
   "outputs": [],
   "source": [
    "from modules.ner import NamedEntities"
   ]
  },
  {
   "cell_type": "code",
   "execution_count": 11,
   "id": "ff569abe-7f61-4870-b35f-77bce80bedef",
   "metadata": {},
   "outputs": [],
   "source": [
    "ner = NamedEntities()"
   ]
  },
  {
   "cell_type": "markdown",
   "id": "80a53d27-3827-453b-bb7d-cddebbc12b2e",
   "metadata": {},
   "source": [
    "# Initialize every word with 0 label for further manual annotation"
   ]
  },
  {
   "cell_type": "markdown",
   "id": "17bd2860-566d-4e94-9da2-d3bee103bf3b",
   "metadata": {},
   "source": [
    "## One-Column PDF structure"
   ]
  },
  {
   "cell_type": "code",
   "execution_count": 215,
   "id": "2e3c101d-8e21-46c4-9dad-3c6074172c23",
   "metadata": {},
   "outputs": [],
   "source": [
    "src_path_one_column = '../corpus/txt/one_column_structure'\n",
    "dst_path_one_column = '../corpus/annotation/initialized/'"
   ]
  },
  {
   "cell_type": "code",
   "execution_count": 216,
   "id": "519afec6-c543-4895-a6d3-0ad0436f5930",
   "metadata": {},
   "outputs": [
    {
     "data": {
      "text/plain": [
       "'Done'"
      ]
     },
     "execution_count": 216,
     "metadata": {},
     "output_type": "execute_result"
    }
   ],
   "source": [
    "ner.initialize_labels(src_path_one_column, dst_path_one_column)"
   ]
  },
  {
   "cell_type": "markdown",
   "id": "3ea1f611-22c2-4268-9d78-fb8730d2af4d",
   "metadata": {},
   "source": [
    "## Two-Column PDF structure"
   ]
  },
  {
   "cell_type": "code",
   "execution_count": 217,
   "id": "596fc180-b294-48c9-9e1d-a353df47a03d",
   "metadata": {},
   "outputs": [],
   "source": [
    "src_path_two_column = '../corpus/txt/two_column_structure/'\n",
    "dst_path_two_column = '../corpus/annotation/initialized/'"
   ]
  },
  {
   "cell_type": "code",
   "execution_count": 218,
   "id": "83573e4f-6c28-4285-af1a-2773c2bf1bb7",
   "metadata": {},
   "outputs": [
    {
     "data": {
      "text/plain": [
       "'Done'"
      ]
     },
     "execution_count": 218,
     "metadata": {},
     "output_type": "execute_result"
    }
   ],
   "source": [
    "ner.initialize_labels(src_path_two_column, dst_path_two_column)"
   ]
  },
  {
   "cell_type": "markdown",
   "id": "1a0fb763-6c98-449c-a824-de0298e1bf32",
   "metadata": {},
   "source": [
    "# Build dataset from annotated .txt files"
   ]
  },
  {
   "cell_type": "code",
   "execution_count": 14,
   "id": "fe61e191-6f1e-4ef1-8777-6a6c3b29b04f",
   "metadata": {},
   "outputs": [],
   "source": [
    "src_path_annotated_txt = '../corpus/annotation/done'"
   ]
  },
  {
   "cell_type": "code",
   "execution_count": 15,
   "id": "813d529e-a2c0-4f51-bb99-6c05036055d5",
   "metadata": {},
   "outputs": [
    {
     "name": "stdout",
     "output_type": "stream",
     "text": [
      "The dataset has been successfully built!\n"
     ]
    }
   ],
   "source": [
    "dataset = ner.build_dataset(src_path_annotated_txt)"
   ]
  },
  {
   "cell_type": "code",
   "execution_count": 19,
   "id": "5444605d-4996-425d-a088-89097eaee9a4",
   "metadata": {},
   "outputs": [
    {
     "data": {
      "text/plain": [
       "['5.4',\n",
       " 'Ensemble',\n",
       " 'of',\n",
       " 'trees',\n",
       " 'using',\n",
       " 'LPBoost',\n",
       " 'Boosting',\n",
       " 'is',\n",
       " 'another',\n",
       " 'ensemble',\n",
       " 'method',\n",
       " 'used',\n",
       " 'to',\n",
       " 'enhance',\n",
       " 'the',\n",
       " 'performance',\n",
       " 'of',\n",
       " 'weak',\n",
       " 'learners',\n",
       " 'i.e.',\n",
       " 'trees',\n",
       " '.']"
      ]
     },
     "execution_count": 19,
     "metadata": {},
     "output_type": "execute_result"
    }
   ],
   "source": [
    "# Choose tokens, labels or ner_tags, then a paper and a sentence of the paper\n",
    "# Here we're choosing tokens of the first paper in the 199th sentence.\n",
    "\n",
    "dataset['papers_tokens'][0][199]"
   ]
  },
  {
   "cell_type": "code",
   "execution_count": 267,
   "id": "5a1a3de2-0758-4dec-bf84-572710bcb72f",
   "metadata": {},
   "outputs": [
    {
     "data": {
      "text/plain": [
       "[0, 1, 2, 2, 0, 1, 2, 0, 0, 1, 2, 0, 0, 0, 0, 0, 0, 0, 0, 0, 0, 0]"
      ]
     },
     "execution_count": 267,
     "metadata": {},
     "output_type": "execute_result"
    }
   ],
   "source": [
    "dataset['papers_labels'][0][199]"
   ]
  },
  {
   "cell_type": "markdown",
   "id": "7aa08379-15d4-45d1-8bff-59acbadde5e0",
   "metadata": {},
   "source": [
    "# Save the dataset as a simple python dict"
   ]
  },
  {
   "cell_type": "code",
   "execution_count": 365,
   "id": "56b4c44c-ff8a-4b6c-9515-d507f24b8eb3",
   "metadata": {},
   "outputs": [],
   "source": [
    "dataset_dst_path = '../dataset/few_shot_learning_dataset_py_dict.pkl'"
   ]
  },
  {
   "cell_type": "code",
   "execution_count": 366,
   "id": "21606202-a7ef-421d-82b2-1070c640d31d",
   "metadata": {},
   "outputs": [],
   "source": [
    "with open(dataset_dst_path, 'wb') as file:\n",
    "    pickle.dump(dataset, file)"
   ]
  },
  {
   "cell_type": "markdown",
   "id": "28cfda70-eae6-44db-b313-6be4321f61c8",
   "metadata": {},
   "source": [
    "# Transform the dataset to pandas"
   ]
  },
  {
   "cell_type": "markdown",
   "id": "79b94290-e09e-42a3-932e-76a2a95ba2a6",
   "metadata": {},
   "source": [
    "1. перевести каждую статью в отдельный словарь\n",
    "2. сделать df для каждой статьи\n",
    "3. сделать три DatasetDict:\n",
    "   2,3: train, 1: test\n",
    "   1,3: train, 2: test\n",
    "   1,2: train , 3: test"
   ]
  },
  {
   "cell_type": "code",
   "execution_count": 304,
   "id": "8ce8c7fb-42f2-4b48-9141-edeeeaf797d8",
   "metadata": {},
   "outputs": [],
   "source": [
    "paper_df = DataFrame()\n",
    "all_papers_df = DataFrame()\n",
    "\n",
    "for idx_paper in range(len(dataset['papers_tokens'])):\n",
    "    \n",
    "    paper_dict = {\n",
    "        'paper': [idx_paper]*len(dataset['papers_tokens'][idx_paper]),\n",
    "        'tokens': dataset['papers_tokens'][idx_paper],\n",
    "        'labels': dataset['papers_labels'][idx_paper],\n",
    "        'tags': dataset['papers_tags'][idx_paper]\n",
    "    }\n",
    "\n",
    "    paper_df = DataFrame(paper_dict)\n",
    "\n",
    "    all_papers_df = concat([all_papers_df, paper_df], ignore_index=True)"
   ]
  },
  {
   "cell_type": "code",
   "execution_count": null,
   "id": "ed9155a3-9924-463a-a06d-26b87beed0bf",
   "metadata": {},
   "outputs": [],
   "source": [
    "# TO-DO\n",
    "# Do everything in a loop. all_papers_df['paper'] == 0, 1, 2 <- loop\n",
    "# Just do the list/dict of DatasetDict, don't save every dataset in a separate variable"
   ]
  },
  {
   "cell_type": "code",
   "execution_count": 325,
   "id": "2d0ba80e-ea74-4300-bbe1-da768f8fb958",
   "metadata": {},
   "outputs": [
    {
     "name": "stdout",
     "output_type": "stream",
     "text": [
      "315\n",
      "802\n",
      "320\n"
     ]
    }
   ],
   "source": [
    "# Each paper to pandas\n",
    "for paper in \n",
    "first_paper_df = all_papers_df.loc[all_papers_df['paper'] == 0].reset_index(drop=True)\n",
    "print(len(first_paper_df))\n",
    "second_paper_df = all_papers_df.loc[all_papers_df['paper'] == 1].reset_index(drop=True)\n",
    "print(len(second_paper_df))\n",
    "third_paper_df = all_papers_df.loc[all_papers_df['paper'] == 2].reset_index(drop=True)\n",
    "print(len(third_paper_df))"
   ]
  },
  {
   "cell_type": "markdown",
   "id": "946b5389-fbe2-4158-8a77-b92a8f2a9661",
   "metadata": {},
   "source": [
    "# Transform to DatasetDict"
   ]
  },
  {
   "cell_type": "markdown",
   "id": "3071018b-8498-496e-8f38-dbc5ccf46ef2",
   "metadata": {},
   "source": [
    "## First of all, build DatasetDict with all papers as train data"
   ]
  },
  {
   "cell_type": "code",
   "execution_count": 388,
   "id": "b12e1d37-e3fb-4295-aced-b20852b109d8",
   "metadata": {},
   "outputs": [],
   "source": [
    "all_papers_dd = DatasetDict({'train': Dataset.from_pandas(all_papers_df)})"
   ]
  },
  {
   "cell_type": "markdown",
   "id": "06d5032d-50b3-4027-8f4a-10900f1be095",
   "metadata": {},
   "source": [
    "## Transform each paper to Dataset, so that further we can combine 3 papers as train and test"
   ]
  },
  {
   "cell_type": "code",
   "execution_count": 389,
   "id": "94bb7cfa-5ff2-4d84-bc44-29348c6a00b7",
   "metadata": {},
   "outputs": [],
   "source": [
    "frst_paper_test_ds = Dataset.from_pandas(first_paper_df)\n",
    "scnd_paper_test_ds = Dataset.from_pandas(second_paper_df)\n",
    "thrd_paper_test_ds = Dataset.from_pandas(third_paper_df)"
   ]
  },
  {
   "cell_type": "markdown",
   "id": "b6ba757d-7c69-40a9-8220-f13f9934f4bb",
   "metadata": {},
   "source": [
    "## Train: 2,3\n",
    "## Test: 1"
   ]
  },
  {
   "cell_type": "code",
   "execution_count": 390,
   "id": "0f2df687-8e33-4d53-a18c-a609a4a02a45",
   "metadata": {},
   "outputs": [],
   "source": [
    "scnd_thrd_papers_train_df = concat([second_paper_df, third_paper_df], ignore_index=True)\n",
    "scnd_thrd_papers_train_ds = Dataset.from_pandas(scnd_thrd_papers_train_df)"
   ]
  },
  {
   "cell_type": "code",
   "execution_count": 391,
   "id": "93e420ae-c441-4912-9a07-329e29ef659d",
   "metadata": {},
   "outputs": [
    {
     "data": {
      "text/plain": [
       "DatasetDict({\n",
       "    train: Dataset({\n",
       "        features: ['paper', 'tokens', 'labels', 'tags'],\n",
       "        num_rows: 1122\n",
       "    })\n",
       "    test: Dataset({\n",
       "        features: ['paper', 'tokens', 'labels', 'tags'],\n",
       "        num_rows: 315\n",
       "    })\n",
       "})"
      ]
     },
     "execution_count": 391,
     "metadata": {},
     "output_type": "execute_result"
    }
   ],
   "source": [
    "scnd_thrd_train_frst_test_dd = DatasetDict({'train': scnd_thrd_papers_train_ds,'test': frst_paper_test_ds})\n",
    "scnd_thrd_train_frst_test_dd"
   ]
  },
  {
   "cell_type": "markdown",
   "id": "a56e8214-fd68-44f8-a3b1-4e71e1cf1ba2",
   "metadata": {},
   "source": [
    "## Train: 1,3\n",
    "## Test: 2"
   ]
  },
  {
   "cell_type": "code",
   "execution_count": 392,
   "id": "c4f3da03-81d2-47a8-8c2d-eb64014a1ac2",
   "metadata": {},
   "outputs": [],
   "source": [
    "frst_thrd_papers_train_df = concat([first_paper_df, third_paper_df], ignore_index=True)\n",
    "frst_thrd_papers_train_ds = Dataset.from_pandas(frst_thrd_papers_train_df)"
   ]
  },
  {
   "cell_type": "code",
   "execution_count": 393,
   "id": "d06106bb-30d2-45b2-8e65-230ddba521ed",
   "metadata": {},
   "outputs": [
    {
     "data": {
      "text/plain": [
       "DatasetDict({\n",
       "    train: Dataset({\n",
       "        features: ['paper', 'tokens', 'labels', 'tags'],\n",
       "        num_rows: 635\n",
       "    })\n",
       "    test: Dataset({\n",
       "        features: ['paper', 'tokens', 'labels', 'tags'],\n",
       "        num_rows: 802\n",
       "    })\n",
       "})"
      ]
     },
     "execution_count": 393,
     "metadata": {},
     "output_type": "execute_result"
    }
   ],
   "source": [
    "frst_thrd_train_scnd_test_dd = DatasetDict({'train': frst_thrd_papers_train_ds,'test': scnd_paper_test_ds})\n",
    "frst_thrd_train_scnd_test_dd"
   ]
  },
  {
   "cell_type": "markdown",
   "id": "5371ece8-7796-4020-b7fd-b993368415a5",
   "metadata": {},
   "source": [
    "## Train: 1,2\n",
    "## Test: 3"
   ]
  },
  {
   "cell_type": "code",
   "execution_count": 394,
   "id": "99b966ed-0109-41f0-a866-ea8efdc07fb7",
   "metadata": {},
   "outputs": [],
   "source": [
    "frst_scnd_papers_train_df = concat([first_paper_df, second_paper_df], ignore_index=True)\n",
    "frst_scnd_papers_train_ds = Dataset.from_pandas(frst_scnd_papers_train_df)"
   ]
  },
  {
   "cell_type": "code",
   "execution_count": 395,
   "id": "a9292605-ecce-45c7-a898-b51a4eeb60a8",
   "metadata": {},
   "outputs": [
    {
     "data": {
      "text/plain": [
       "DatasetDict({\n",
       "    train: Dataset({\n",
       "        features: ['paper', 'tokens', 'labels', 'tags'],\n",
       "        num_rows: 1117\n",
       "    })\n",
       "    test: Dataset({\n",
       "        features: ['paper', 'tokens', 'labels', 'tags'],\n",
       "        num_rows: 320\n",
       "    })\n",
       "})"
      ]
     },
     "execution_count": 395,
     "metadata": {},
     "output_type": "execute_result"
    }
   ],
   "source": [
    "frst_scnd_train_thrd_test_dd = DatasetDict({'train': frst_scnd_papers_train_ds, 'test': thrd_paper_test_ds})\n",
    "frst_scnd_train_thrd_test_dd"
   ]
  },
  {
   "cell_type": "code",
   "execution_count": 396,
   "id": "5d255886-1bbe-4d52-aa0a-095e7f18f2eb",
   "metadata": {},
   "outputs": [],
   "source": [
    "all_dd = [scnd_thrd_train_frst_test_dd, frst_thrd_train_scnd_test_dd, frst_scnd_train_thrd_test_dd, all_papers_dd]"
   ]
  },
  {
   "cell_type": "markdown",
   "id": "14e01ae3-6da2-4284-b017-bf5cf35ea562",
   "metadata": {},
   "source": [
    "# Save DatasetDict-s"
   ]
  },
  {
   "cell_type": "code",
   "execution_count": 382,
   "id": "f2aff33b-4001-4783-bda8-507e2905e3ce",
   "metadata": {},
   "outputs": [],
   "source": [
    "# TO-DO\n",
    "# 1. Do it in loop"
   ]
  },
  {
   "cell_type": "code",
   "execution_count": 385,
   "id": "5c5053d8-d6d5-4e11-8a0b-7a1aa10eb332",
   "metadata": {},
   "outputs": [],
   "source": [
    "dd_dst_paths = [\n",
    "                         '../dataset/scnd_thrd_train_frst_test_dd.pkl', \n",
    "                         '../dataset/frst_thrd_train_scnd_test_dd.pkl', \n",
    "                         '../dataset/frst_scnd_train_thrd_test_dd.pkl',\n",
    "                         '../dataset/all_papers_train_dd.pkl'\n",
    "                    ]"
   ]
  },
  {
   "cell_type": "code",
   "execution_count": 386,
   "id": "f6e2f4e8-2b5b-444c-afba-27d16580ac63",
   "metadata": {},
   "outputs": [],
   "source": [
    "for dst_path, dd in zip(dd_dst_paths, all_dd):\n",
    "    with open(dst_path, 'wb') as file:\n",
    "        pickle.dump(dd, file)"
   ]
  }
 ],
 "metadata": {
  "kernelspec": {
   "display_name": "Python 3 (ipykernel)",
   "language": "python",
   "name": "python3"
  },
  "language_info": {
   "codemirror_mode": {
    "name": "ipython",
    "version": 3
   },
   "file_extension": ".py",
   "mimetype": "text/x-python",
   "name": "python",
   "nbconvert_exporter": "python",
   "pygments_lexer": "ipython3",
   "version": "3.9.17"
  }
 },
 "nbformat": 4,
 "nbformat_minor": 5
}
