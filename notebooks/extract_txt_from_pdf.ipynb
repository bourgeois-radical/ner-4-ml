{
 "cells": [
  {
   "cell_type": "code",
   "execution_count": 1,
   "id": "4f7bcb03-d9fc-40c2-b4d0-eda9a0e993d4",
   "metadata": {},
   "outputs": [],
   "source": [
    "# no cache; always uploading from modules\n",
    "%load_ext autoreload\n",
    "%autoreload 2"
   ]
  },
  {
   "cell_type": "code",
   "execution_count": 2,
   "id": "97182376-9031-4478-9e31-fafac4a76da4",
   "metadata": {},
   "outputs": [],
   "source": [
    "# built-in\n",
    "import sys\n",
    "import pickle\n",
    "from pathlib import Path\n",
    "\n",
    "# installed\n",
    "import numpy as np"
   ]
  },
  {
   "cell_type": "code",
   "execution_count": 4,
   "id": "a8315e38-8576-400d-95fc-6a7915fa57ab",
   "metadata": {},
   "outputs": [],
   "source": [
    "sys.path.append('../')"
   ]
  },
  {
   "cell_type": "code",
   "execution_count": 5,
   "id": "04935540-b57e-40e0-9d9f-d4b7b41d47d7",
   "metadata": {},
   "outputs": [],
   "source": [
    "from modules.extract_text import txt_from_pdf"
   ]
  },
  {
   "cell_type": "markdown",
   "id": "2c40b0bd-5abb-4490-a0aa-86be3fb3efc9",
   "metadata": {},
   "source": [
    "# Convert one column PDFs to .txt"
   ]
  },
  {
   "cell_type": "code",
   "execution_count": 10,
   "id": "7ed9f5d7-55c8-4938-90a8-b9c180059c5b",
   "metadata": {},
   "outputs": [],
   "source": [
    "src_path_one_column = 'C:/Users/andri/YandexDisk/Projects/ml_nlp_mentoring_with_roman/projects/earthquake_prediction/corpus/pdf/one_column_structure'\n",
    "dst_path_one_column = 'C:/Users/andri/YandexDisk/Projects/ml_nlp_mentoring_with_roman/projects/earthquake_prediction/corpus/txt/one_column_structure'"
   ]
  },
  {
   "cell_type": "code",
   "execution_count": 8,
   "id": "c7af6bf4-f253-4faa-bc91-b8fd46792450",
   "metadata": {},
   "outputs": [
    {
     "data": {
      "text/plain": [
       "'All pdf files have been successfully converted to txt files.'"
      ]
     },
     "execution_count": 8,
     "metadata": {},
     "output_type": "execute_result"
    }
   ],
   "source": [
    "txt_from_pdf(src_pdf_path=src_path_one_column, dst_txt_path=dst_path_one_column)"
   ]
  },
  {
   "cell_type": "markdown",
   "id": "5f7921e5-05f3-4e1f-b7f2-5410cafbc7bd",
   "metadata": {},
   "source": [
    "# Convert two column PDFs to .txt"
   ]
  },
  {
   "cell_type": "code",
   "execution_count": 11,
   "id": "3e9a7335-f866-4293-aab5-a222f2a85884",
   "metadata": {},
   "outputs": [],
   "source": [
    "src_path_two_column = 'C:/Users/andri/YandexDisk/Projects/ml_nlp_mentoring_with_roman/projects/earthquake_prediction/corpus/pdf/two_column_structure'\n",
    "dst_path_two_column = 'C:/Users/andri/YandexDisk/Projects/ml_nlp_mentoring_with_roman/projects/earthquake_prediction/corpus/txt/two_column_structure'"
   ]
  },
  {
   "cell_type": "code",
   "execution_count": 14,
   "id": "b1ca08c9-781c-4767-9704-478d47fa4854",
   "metadata": {},
   "outputs": [
    {
     "name": "stdout",
     "output_type": "stream",
     "text": [
      "The following file is encrypted: C:\\Users\\andri\\YandexDisk\\Projects\\ml_nlp_mentoring_with_roman\\projects\\earthquake_prediction\\corpus\\pdf\\two_column_structure\\08_2013_1_48.pdf\n",
      "The following file is encrypted: C:\\Users\\andri\\YandexDisk\\Projects\\ml_nlp_mentoring_with_roman\\projects\\earthquake_prediction\\corpus\\pdf\\two_column_structure\\26_2013_4_17.pdf\n"
     ]
    },
    {
     "name": "stderr",
     "output_type": "stream",
     "text": [
      "incorrect startxref pointer(1)\n",
      "incorrect startxref pointer(1)\n",
      "Multiple definitions in dictionary at byte 0x64e73 for key /Im87\n",
      "Multiple definitions in dictionary at byte 0x64f5a for key /Im103\n",
      "Multiple definitions in dictionary at byte 0x6504a for key /Im118\n",
      "Multiple definitions in dictionary at byte 0x65149 for key /Im134\n"
     ]
    },
    {
     "data": {
      "text/plain": [
       "'NOT all pdf files have been successfully converted to txt files.'"
      ]
     },
     "execution_count": 14,
     "metadata": {},
     "output_type": "execute_result"
    }
   ],
   "source": [
    "txt_from_pdf(src_pdf_path=src_path_two_column, dst_txt_path=dst_path_two_column)"
   ]
  },
  {
   "cell_type": "code",
   "execution_count": null,
   "id": "731d43e1-85ff-448f-a984-4395a4905b32",
   "metadata": {},
   "outputs": [],
   "source": []
  }
 ],
 "metadata": {
  "kernelspec": {
   "display_name": "Python 3 (ipykernel)",
   "language": "python",
   "name": "python3"
  },
  "language_info": {
   "codemirror_mode": {
    "name": "ipython",
    "version": 3
   },
   "file_extension": ".py",
   "mimetype": "text/x-python",
   "name": "python",
   "nbconvert_exporter": "python",
   "pygments_lexer": "ipython3",
   "version": "3.9.17"
  }
 },
 "nbformat": 4,
 "nbformat_minor": 5
}
